{
 "cells": [
  {
   "cell_type": "code",
   "execution_count": 37,
   "metadata": {},
   "outputs": [
    {
     "name": "stdout",
     "output_type": "stream",
     "text": [
      "Running on local URL:  http://127.0.0.1:7881\n",
      "\n",
      "To create a public link, set `share=True` in `launch()`.\n"
     ]
    },
    {
     "data": {
      "text/html": [
       "<div><iframe src=\"http://127.0.0.1:7881/\" width=\"100%\" height=\"500\" allow=\"autoplay; camera; microphone; clipboard-read; clipboard-write;\" frameborder=\"0\" allowfullscreen></iframe></div>"
      ],
      "text/plain": [
       "<IPython.core.display.HTML object>"
      ]
     },
     "metadata": {},
     "output_type": "display_data"
    },
    {
     "data": {
      "text/plain": []
     },
     "execution_count": 37,
     "metadata": {},
     "output_type": "execute_result"
    }
   ],
   "source": [
    "import gradio as gr\n",
    "import numpy as np \n",
    "from gradio_folium import Folium\n",
    "from folium import Map\n",
    "import pandas as pd\n",
    "\n",
    "df = pd.read_csv(\"cities.csv\")\n",
    "def select(df, data: gr.SelectData):\n",
    "    row = df.iloc[data.index[0], :]\n",
    "    return Map(location=[row['Latitude'], row['Longitude']])\n",
    "\n",
    "def flip_text(x):\n",
    "    return x[::-1]\n",
    "\n",
    "def flip_image(x):\n",
    "    return np.fliplr(x)\n",
    "\n",
    "with gr.Blocks() as demo:\n",
    "    gr.Markdown(\"# EcoTrust Carbon Calculator\")\n",
    "    with gr.Row():\n",
    "        d1 = gr.Dropdown([\"a\", \"b\", \"c\"], label=\"User Organization\")\n",
    "\n",
    "    with gr.Row():\n",
    "        with gr.Column(scale=1):\n",
    "            d2 = gr.Dropdown([\"a\", \"b\", \"c\"], label=\"Forest Type\")\n",
    "            d3 = gr.Dropdown([\"a\", \"b\", \"c\"], label=\"Site History\")\n",
    "            text1 = gr.Textbox(label=\"Biome Setting\")\n",
    "            text2 = gr.Textbox(label=\"Growth Parameter\")\n",
    "            text4 = gr.Textbox(label=\"Growth Curve Assumption\")\n",
    "            text5 = gr.Textbox(label=\"\")\n",
    "        \n",
    "        with gr.Column(): \n",
    "            gr.Markdown((\"Location\"))\n",
    "            map = Folium(value=Map(location=[25.7617, -80.1918]))\n",
    "\n",
    "    with gr.Row():\n",
    "        submit_btn = gr.Button(\"Submit\")\n",
    "        submit_btn.click(inputs={d1, d2, d3 }, outputs={o1, o2})\n",
    "\n",
    "    with gr.Column(scale=1):\n",
    "        o1 = gr.Textbox(label=\"Project Net Carbon\")\n",
    "\n",
    "    with gr.Row():\n",
    "        export_btn = gr.Button(\"Export\")\n",
    "        export_btn.click(inputs={d1, d2, d3 }, outputs={o1, o2})\n",
    "\n",
    "demo.launch()"
   ]
  },
  {
   "cell_type": "code",
   "execution_count": null,
   "metadata": {},
   "outputs": [],
   "source": []
  }
 ],
 "metadata": {
  "kernelspec": {
   "display_name": "Python 3",
   "language": "python",
   "name": "python3"
  },
  "language_info": {
   "codemirror_mode": {
    "name": "ipython",
    "version": 3
   },
   "file_extension": ".py",
   "mimetype": "text/x-python",
   "name": "python",
   "nbconvert_exporter": "python",
   "pygments_lexer": "ipython3",
   "version": "3.9.6"
  }
 },
 "nbformat": 4,
 "nbformat_minor": 2
}

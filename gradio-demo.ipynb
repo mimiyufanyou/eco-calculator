{
 "cells": [
  {
   "cell_type": "code",
   "execution_count": 4,
   "metadata": {},
   "outputs": [
    {
     "name": "stdout",
     "output_type": "stream",
     "text": [
      "Running on local URL:  http://127.0.0.1:7861\n",
      "Running on public URL: https://1bf76ea1fd95781cd7.gradio.live\n",
      "\n",
      "This share link expires in 72 hours. For free permanent hosting and GPU upgrades, run `gradio deploy` from Terminal to deploy to Spaces (https://huggingface.co/spaces)\n"
     ]
    },
    {
     "data": {
      "text/html": [
       "<div><iframe src=\"https://1bf76ea1fd95781cd7.gradio.live\" width=\"100%\" height=\"500\" allow=\"autoplay; camera; microphone; clipboard-read; clipboard-write;\" frameborder=\"0\" allowfullscreen></iframe></div>"
      ],
      "text/plain": [
       "<IPython.core.display.HTML object>"
      ]
     },
     "metadata": {},
     "output_type": "display_data"
    },
    {
     "data": {
      "text/plain": []
     },
     "execution_count": 4,
     "metadata": {},
     "output_type": "execute_result"
    }
   ],
   "source": [
    "import gradio as gr\n",
    "import numpy as np \n",
    "from gradio_folium import Folium\n",
    "from folium import Map\n",
    "import pandas as pd\n",
    "\n",
    "df = pd.read_csv(\"cities.csv\")\n",
    "def select(df, data: gr.SelectData):\n",
    "    row = df.iloc[data.index[0], :]\n",
    "    return Map(location=[row['Latitude'], row['Longitude']])\n",
    "\n",
    "with gr.Blocks() as demo:\n",
    "    gr.Markdown(\"# EcoTrust Carbon Calculator\")\n",
    "\n",
    "    with gr.Tab(\"Calculator\"):\n",
    "        with gr.Row():\n",
    "            d1 = gr.Dropdown([\"a\", \"b\", \"c\"], label=\"User Organization\")\n",
    "\n",
    "        with gr.Row():\n",
    "            with gr.Column(scale=1):\n",
    "                gr.Markdown(\"Forest Assumptions\")\n",
    "                d2 = gr.Dropdown([\"a\", \"b\", \"c\"], label=\"Forest Type\")\n",
    "                d3 = gr.Dropdown([\"a\", \"b\", \"c\"], label=\"Site History\")\n",
    "\n",
    "                gr.Markdown(\"Model & Data Assumptions\")\n",
    "                text1 = gr.Textbox(label=\"Biome Setting\")\n",
    "                text2 = gr.Textbox(label=\"Growth Parameter\")\n",
    "                text4 = gr.Textbox(label=\"Growth Curve Assumption\")\n",
    "            \n",
    "            with gr.Column(): \n",
    "                gr.Markdown((\"Location\"))\n",
    "                map = Folium(value=Map(location=[25.7617, -80.1918]))\n",
    "\n",
    "        with gr.Row(): \n",
    "            with gr.Column(scale=1):\n",
    "                gr.Markdown(\"Other Things\")\n",
    "                text5 = gr.Textbox(label=\"Thing A\")\n",
    "                d5 = gr.Dropdown([\"a\", \"b\", \"c\"], label=\"Thing B\")\n",
    "                d6 = gr.Slider(0,10, value=3, label=\"Slider A\", info=\"Slide for whatever\")\n",
    "            with gr.Column(scale=1):\n",
    "                gr.Markdown(\"Site Specifics\")\n",
    "                text5 = gr.Textbox(label=\"Area Hectares\")\n",
    "                d5 = gr.Dropdown([\"a\", \"b\", \"c\"], label=\"Tree Density\")\n",
    "                d6 = gr.Dropdown([\"a\", \"b\", \"c\"], label=\"Tree Species\")\n",
    "\n",
    "        with gr.Column(scale=1):\n",
    "            o1 = gr.Textbox(label=\"Project Net Carbon\")\n",
    "            o2 = gr.Textbox(label=\"Project Gross Carbon\")\n",
    "\n",
    "        with gr.Row():\n",
    "            submit_btn = gr.Button(\"Submit\")\n",
    "            submit_btn.click(inputs={d1, d2, d3 }, outputs={o1, o2})\n",
    "\n",
    "        with gr.Row():\n",
    "            export_btn = gr.Button(\"Export\")\n",
    "            export_btn.click(inputs={d1, d2, d3 })\n",
    "        \n",
    "    with gr.Tab(\"Read Me\"):\n",
    "        gr.Markdown(\"This is a carbon calculator for EcoTrust\")\n",
    "\n",
    "demo.launch(share=True)\n",
    "\n",
    "## TO DO add PDF export or whatever \n",
    "\n",
    "# https://towardsdatascience.com/display-and-download-pdf-in-streamlit-a-blog-use-case-5fc1ac87d4b1\n",
    "# https://discuss.streamlit.io/t/pdf-download-of-part-of-the-output/46632\n",
    "\n",
    "### TODO add some fun charts to another tab \n",
    "# https://docs.streamlit.io/library/api-reference/charts\n",
    "\n",
    "## MAYBE need this front end wrapper bit \n",
    "## https://discuss.huggingface.co/t/create-gradio-homepage-with-list-of-gradio-front-ends/34466\n",
    "\n"
   ]
  },
  {
   "cell_type": "code",
   "execution_count": null,
   "metadata": {},
   "outputs": [],
   "source": []
  }
 ],
 "metadata": {
  "kernelspec": {
   "display_name": "Python 3",
   "language": "python",
   "name": "python3"
  },
  "language_info": {
   "codemirror_mode": {
    "name": "ipython",
    "version": 3
   },
   "file_extension": ".py",
   "mimetype": "text/x-python",
   "name": "python",
   "nbconvert_exporter": "python",
   "pygments_lexer": "ipython3",
   "version": "3.9.6"
  }
 },
 "nbformat": 4,
 "nbformat_minor": 2
}
